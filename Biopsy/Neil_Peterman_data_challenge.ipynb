{
 "cells": [
  {
   "cell_type": "code",
   "execution_count": 1,
   "metadata": {
    "collapsed": true
   },
   "outputs": [],
   "source": [
    "import numpy as np\n",
    "import pandas as pd\n",
    "\n",
    "import matplotlib.pyplot as plt\n",
    "%matplotlib inline\n",
    "\n",
    "from sklearn.model_selection import train_test_split"
   ]
  },
  {
   "cell_type": "markdown",
   "metadata": {},
   "source": [
    "# Download data\n",
    "\n",
    "I started by using the url provided and the column names to generate a pandas dataframe containing the data."
   ]
  },
  {
   "cell_type": "code",
   "execution_count": 2,
   "metadata": {},
   "outputs": [],
   "source": [
    "# Data download\n",
    "\n",
    "url = 'https://archive.ics.uci.edu/ml/machine-learning-databases/' \\\n",
    "      + 'breast-cancer-wisconsin/breast-cancer-wisconsin.data'\n",
    "    \n",
    "data = pd.read_csv(url,header=0,\n",
    "                   names = ['SAMPLE_ID',\n",
    "                            'CLUMP_THICKNESS',\n",
    "                            'UNIFORMITY_SIZE',\n",
    "                            'UNIFORMITY_SHAPE',\n",
    "                            'MARGINAL_ADHESION',\n",
    "                            'EPITHELIAL_SIZE',\n",
    "                            'BARE_NUCLEI',\n",
    "                            'BLAND_CHROMATIN',\n",
    "                            'NORMAL_NUCLEOLI',\n",
    "                            'MITOSES',\n",
    "                            'CLASS'],\n",
    "                  index_col=0)\n",
    "\n",
    "# 1. Sample code number: id number \n",
    "# 2. Clump Thickness: 1 - 10 \n",
    "# 3. Uniformity of Cell Size: 1 - 10 \n",
    "# 4. Uniformity of Cell Shape: 1 - 10 \n",
    "# 5. Marginal Adhesion: 1 - 10 \n",
    "# 6. Single Epithelial Cell Size: 1 - 10 \n",
    "# 7. Bare Nuclei: 1 - 10 \n",
    "# 8. Bland Chromatin: 1 - 10 \n",
    "# 9. Normal Nucleoli: 1 - 10 \n",
    "# 10. Mitoses: 1 - 10 \n",
    "# 11. Class: (2 for benign, 4 for malignant)"
   ]
  },
  {
   "cell_type": "markdown",
   "metadata": {},
   "source": [
    "# Data cleaning\n",
    "\n",
    "I then explore the data to check the dimensions and see that the data is in the form I am expecting, numbers between 1 and 10 for each of the 10 different. I have kept my sample ID's as an index for the rows of the dataframe."
   ]
  },
  {
   "cell_type": "code",
   "execution_count": 3,
   "metadata": {},
   "outputs": [
    {
     "name": "stdout",
     "output_type": "stream",
     "text": [
      "(698, 10)\n"
     ]
    },
    {
     "data": {
      "text/html": [
       "<div>\n",
       "<style>\n",
       "    .dataframe thead tr:only-child th {\n",
       "        text-align: right;\n",
       "    }\n",
       "\n",
       "    .dataframe thead th {\n",
       "        text-align: left;\n",
       "    }\n",
       "\n",
       "    .dataframe tbody tr th {\n",
       "        vertical-align: top;\n",
       "    }\n",
       "</style>\n",
       "<table border=\"1\" class=\"dataframe\">\n",
       "  <thead>\n",
       "    <tr style=\"text-align: right;\">\n",
       "      <th></th>\n",
       "      <th>CLUMP_THICKNESS</th>\n",
       "      <th>UNIFORMITY_SIZE</th>\n",
       "      <th>UNIFORMITY_SHAPE</th>\n",
       "      <th>MARGINAL_ADHESION</th>\n",
       "      <th>EPITHELIAL_SIZE</th>\n",
       "      <th>BARE_NUCLEI</th>\n",
       "      <th>BLAND_CHROMATIN</th>\n",
       "      <th>NORMAL_NUCLEOLI</th>\n",
       "      <th>MITOSES</th>\n",
       "      <th>CLASS</th>\n",
       "    </tr>\n",
       "    <tr>\n",
       "      <th>SAMPLE_ID</th>\n",
       "      <th></th>\n",
       "      <th></th>\n",
       "      <th></th>\n",
       "      <th></th>\n",
       "      <th></th>\n",
       "      <th></th>\n",
       "      <th></th>\n",
       "      <th></th>\n",
       "      <th></th>\n",
       "      <th></th>\n",
       "    </tr>\n",
       "  </thead>\n",
       "  <tbody>\n",
       "    <tr>\n",
       "      <th>1002945</th>\n",
       "      <td>5</td>\n",
       "      <td>4</td>\n",
       "      <td>4</td>\n",
       "      <td>5</td>\n",
       "      <td>7</td>\n",
       "      <td>10</td>\n",
       "      <td>3</td>\n",
       "      <td>2</td>\n",
       "      <td>1</td>\n",
       "      <td>2</td>\n",
       "    </tr>\n",
       "    <tr>\n",
       "      <th>1015425</th>\n",
       "      <td>3</td>\n",
       "      <td>1</td>\n",
       "      <td>1</td>\n",
       "      <td>1</td>\n",
       "      <td>2</td>\n",
       "      <td>2</td>\n",
       "      <td>3</td>\n",
       "      <td>1</td>\n",
       "      <td>1</td>\n",
       "      <td>2</td>\n",
       "    </tr>\n",
       "    <tr>\n",
       "      <th>1016277</th>\n",
       "      <td>6</td>\n",
       "      <td>8</td>\n",
       "      <td>8</td>\n",
       "      <td>1</td>\n",
       "      <td>3</td>\n",
       "      <td>4</td>\n",
       "      <td>3</td>\n",
       "      <td>7</td>\n",
       "      <td>1</td>\n",
       "      <td>2</td>\n",
       "    </tr>\n",
       "    <tr>\n",
       "      <th>1017023</th>\n",
       "      <td>4</td>\n",
       "      <td>1</td>\n",
       "      <td>1</td>\n",
       "      <td>3</td>\n",
       "      <td>2</td>\n",
       "      <td>1</td>\n",
       "      <td>3</td>\n",
       "      <td>1</td>\n",
       "      <td>1</td>\n",
       "      <td>2</td>\n",
       "    </tr>\n",
       "    <tr>\n",
       "      <th>1017122</th>\n",
       "      <td>8</td>\n",
       "      <td>10</td>\n",
       "      <td>10</td>\n",
       "      <td>8</td>\n",
       "      <td>7</td>\n",
       "      <td>10</td>\n",
       "      <td>9</td>\n",
       "      <td>7</td>\n",
       "      <td>1</td>\n",
       "      <td>4</td>\n",
       "    </tr>\n",
       "    <tr>\n",
       "      <th>1018099</th>\n",
       "      <td>1</td>\n",
       "      <td>1</td>\n",
       "      <td>1</td>\n",
       "      <td>1</td>\n",
       "      <td>2</td>\n",
       "      <td>10</td>\n",
       "      <td>3</td>\n",
       "      <td>1</td>\n",
       "      <td>1</td>\n",
       "      <td>2</td>\n",
       "    </tr>\n",
       "    <tr>\n",
       "      <th>1018561</th>\n",
       "      <td>2</td>\n",
       "      <td>1</td>\n",
       "      <td>2</td>\n",
       "      <td>1</td>\n",
       "      <td>2</td>\n",
       "      <td>1</td>\n",
       "      <td>3</td>\n",
       "      <td>1</td>\n",
       "      <td>1</td>\n",
       "      <td>2</td>\n",
       "    </tr>\n",
       "    <tr>\n",
       "      <th>1033078</th>\n",
       "      <td>2</td>\n",
       "      <td>1</td>\n",
       "      <td>1</td>\n",
       "      <td>1</td>\n",
       "      <td>2</td>\n",
       "      <td>1</td>\n",
       "      <td>1</td>\n",
       "      <td>1</td>\n",
       "      <td>5</td>\n",
       "      <td>2</td>\n",
       "    </tr>\n",
       "    <tr>\n",
       "      <th>1033078</th>\n",
       "      <td>4</td>\n",
       "      <td>2</td>\n",
       "      <td>1</td>\n",
       "      <td>1</td>\n",
       "      <td>2</td>\n",
       "      <td>1</td>\n",
       "      <td>2</td>\n",
       "      <td>1</td>\n",
       "      <td>1</td>\n",
       "      <td>2</td>\n",
       "    </tr>\n",
       "    <tr>\n",
       "      <th>1035283</th>\n",
       "      <td>1</td>\n",
       "      <td>1</td>\n",
       "      <td>1</td>\n",
       "      <td>1</td>\n",
       "      <td>1</td>\n",
       "      <td>1</td>\n",
       "      <td>3</td>\n",
       "      <td>1</td>\n",
       "      <td>1</td>\n",
       "      <td>2</td>\n",
       "    </tr>\n",
       "  </tbody>\n",
       "</table>\n",
       "</div>"
      ],
      "text/plain": [
       "           CLUMP_THICKNESS  UNIFORMITY_SIZE  UNIFORMITY_SHAPE  \\\n",
       "SAMPLE_ID                                                       \n",
       "1002945                  5                4                 4   \n",
       "1015425                  3                1                 1   \n",
       "1016277                  6                8                 8   \n",
       "1017023                  4                1                 1   \n",
       "1017122                  8               10                10   \n",
       "1018099                  1                1                 1   \n",
       "1018561                  2                1                 2   \n",
       "1033078                  2                1                 1   \n",
       "1033078                  4                2                 1   \n",
       "1035283                  1                1                 1   \n",
       "\n",
       "           MARGINAL_ADHESION  EPITHELIAL_SIZE BARE_NUCLEI  BLAND_CHROMATIN  \\\n",
       "SAMPLE_ID                                                                    \n",
       "1002945                    5                7          10                3   \n",
       "1015425                    1                2           2                3   \n",
       "1016277                    1                3           4                3   \n",
       "1017023                    3                2           1                3   \n",
       "1017122                    8                7          10                9   \n",
       "1018099                    1                2          10                3   \n",
       "1018561                    1                2           1                3   \n",
       "1033078                    1                2           1                1   \n",
       "1033078                    1                2           1                2   \n",
       "1035283                    1                1           1                3   \n",
       "\n",
       "           NORMAL_NUCLEOLI  MITOSES  CLASS  \n",
       "SAMPLE_ID                                   \n",
       "1002945                  2        1      2  \n",
       "1015425                  1        1      2  \n",
       "1016277                  7        1      2  \n",
       "1017023                  1        1      2  \n",
       "1017122                  7        1      4  \n",
       "1018099                  1        1      2  \n",
       "1018561                  1        1      2  \n",
       "1033078                  1        5      2  \n",
       "1033078                  1        1      2  \n",
       "1035283                  1        1      2  "
      ]
     },
     "execution_count": 3,
     "metadata": {},
     "output_type": "execute_result"
    }
   ],
   "source": [
    "print(data.shape)\n",
    "\n",
    "data.head(10)"
   ]
  },
  {
   "cell_type": "markdown",
   "metadata": {},
   "source": [
    "This all looks in order -- 698 samples and all are numbers I expect. There is just one \"malignant\" case among the first 10 entries as indicated by Class=4, so I may hae unbalanced classes for my classification task. I check the frequencies of values across all fields to observe related issues."
   ]
  },
  {
   "cell_type": "code",
   "execution_count": 4,
   "metadata": {},
   "outputs": [
    {
     "name": "stdout",
     "output_type": "stream",
     "text": [
      "    CLUMP_THICKNESS  UNIFORMITY_SIZE  UNIFORMITY_SHAPE  MARGINAL_ADHESION  \\\n",
      "1             145.0            383.0             352.0              406.0   \n",
      "2              50.0             45.0              59.0               58.0   \n",
      "3             108.0             52.0              56.0               58.0   \n",
      "4              80.0             40.0              44.0               33.0   \n",
      "5             129.0             30.0              34.0               23.0   \n",
      "6              34.0             27.0              30.0               22.0   \n",
      "7              23.0             19.0              30.0               13.0   \n",
      "8              46.0             29.0              28.0               25.0   \n",
      "9              14.0              6.0               7.0                5.0   \n",
      "10             69.0             67.0              58.0               55.0   \n",
      "1               NaN              NaN               NaN                NaN   \n",
      "10              NaN              NaN               NaN                NaN   \n",
      "5               NaN              NaN               NaN                NaN   \n",
      "2               NaN              NaN               NaN                NaN   \n",
      "3               NaN              NaN               NaN                NaN   \n",
      "8               NaN              NaN               NaN                NaN   \n",
      "4               NaN              NaN               NaN                NaN   \n",
      "?               NaN              NaN               NaN                NaN   \n",
      "9               NaN              NaN               NaN                NaN   \n",
      "7               NaN              NaN               NaN                NaN   \n",
      "6               NaN              NaN               NaN                NaN   \n",
      "\n",
      "    EPITHELIAL_SIZE  BARE_NUCLEI  BLAND_CHROMATIN  NORMAL_NUCLEOLI  MITOSES  \\\n",
      "1              47.0          NaN            152.0            442.0    578.0   \n",
      "2             385.0          NaN            166.0             36.0     35.0   \n",
      "3              72.0          NaN            164.0             44.0     33.0   \n",
      "4              48.0          NaN             40.0             18.0     12.0   \n",
      "5              39.0          NaN             34.0             19.0      6.0   \n",
      "6              41.0          NaN             10.0             22.0      3.0   \n",
      "7              12.0          NaN             73.0             16.0      9.0   \n",
      "8              21.0          NaN             28.0             24.0      8.0   \n",
      "9               2.0          NaN             11.0             16.0      NaN   \n",
      "10             31.0          NaN             20.0             61.0     14.0   \n",
      "1               NaN        401.0              NaN              NaN      NaN   \n",
      "10              NaN        132.0              NaN              NaN      NaN   \n",
      "5               NaN         30.0              NaN              NaN      NaN   \n",
      "2               NaN         30.0              NaN              NaN      NaN   \n",
      "3               NaN         28.0              NaN              NaN      NaN   \n",
      "8               NaN         21.0              NaN              NaN      NaN   \n",
      "4               NaN         19.0              NaN              NaN      NaN   \n",
      "?               NaN         16.0              NaN              NaN      NaN   \n",
      "9               NaN          9.0              NaN              NaN      NaN   \n",
      "7               NaN          8.0              NaN              NaN      NaN   \n",
      "6               NaN          4.0              NaN              NaN      NaN   \n",
      "\n",
      "    CLASS  \n",
      "1     NaN  \n",
      "2   457.0  \n",
      "3     NaN  \n",
      "4   241.0  \n",
      "5     NaN  \n",
      "6     NaN  \n",
      "7     NaN  \n",
      "8     NaN  \n",
      "9     NaN  \n",
      "10    NaN  \n",
      "1     NaN  \n",
      "10    NaN  \n",
      "5     NaN  \n",
      "2     NaN  \n",
      "3     NaN  \n",
      "8     NaN  \n",
      "4     NaN  \n",
      "?     NaN  \n",
      "9     NaN  \n",
      "7     NaN  \n",
      "6     NaN  \n"
     ]
    },
    {
     "name": "stderr",
     "output_type": "stream",
     "text": [
      "/Users/neilpeterman/anaconda/envs/my_projects_env/lib/python3.6/site-packages/pandas/core/indexes/api.py:77: RuntimeWarning: '<' not supported between instances of 'int' and 'str', sort order is undefined for incomparable objects\n",
      "  result = result.union(other)\n",
      "/Users/neilpeterman/anaconda/envs/my_projects_env/lib/python3.6/site-packages/pandas/core/indexes/api.py:77: RuntimeWarning: '>' not supported between instances of 'str' and 'int', sort order is undefined for incomparable objects\n",
      "  result = result.union(other)\n"
     ]
    }
   ],
   "source": [
    "print(data.apply(pd.value_counts))"
   ]
  },
  {
   "cell_type": "markdown",
   "metadata": {},
   "source": [
    "All variables look reasonable including Class, where about 1/3 of the rows are \"malignant\", which is less unbalanced than I might have expected. Except one of the columns, 'BARE_NUCLEI' is being counted separately from all the others. I suspect this may be due to a different data type. I also notice that 16 of the entries for 'BARE_NUCLEI' show the character '?' so these look like missing values.\n",
    "\n",
    "I check the data types in the dataframe:"
   ]
  },
  {
   "cell_type": "code",
   "execution_count": 5,
   "metadata": {},
   "outputs": [
    {
     "name": "stdout",
     "output_type": "stream",
     "text": [
      "CLUMP_THICKNESS       int64\n",
      "UNIFORMITY_SIZE       int64\n",
      "UNIFORMITY_SHAPE      int64\n",
      "MARGINAL_ADHESION     int64\n",
      "EPITHELIAL_SIZE       int64\n",
      "BARE_NUCLEI          object\n",
      "BLAND_CHROMATIN       int64\n",
      "NORMAL_NUCLEOLI       int64\n",
      "MITOSES               int64\n",
      "CLASS                 int64\n",
      "dtype: object\n"
     ]
    }
   ],
   "source": [
    "print(data.dtypes)"
   ]
  },
  {
   "cell_type": "markdown",
   "metadata": {},
   "source": [
    "Indeed, all columns are integers except for 'BARE_NUCLEI'. This might be difficult to fix the parsing for pd.read_csv, so I just replace the column with a corrected column. I replace the non-numeric values with -1 and I'll decide what to do with these later."
   ]
  },
  {
   "cell_type": "code",
   "execution_count": 6,
   "metadata": {},
   "outputs": [],
   "source": [
    "x = data.BARE_NUCLEI.values\n",
    "z = []\n",
    "for y in x:\n",
    "    try:\n",
    "        y = int(y)\n",
    "    except ValueError:\n",
    "        y = -1\n",
    "    z.append(y)\n",
    "\n",
    "data2 = data.drop('BARE_NUCLEI', axis=1)\n",
    "data2.insert(5,'BARE_NUCLEI',z)"
   ]
  },
  {
   "cell_type": "code",
   "execution_count": 7,
   "metadata": {},
   "outputs": [
    {
     "name": "stdout",
     "output_type": "stream",
     "text": [
      "CLUMP_THICKNESS      int64\n",
      "UNIFORMITY_SIZE      int64\n",
      "UNIFORMITY_SHAPE     int64\n",
      "MARGINAL_ADHESION    int64\n",
      "EPITHELIAL_SIZE      int64\n",
      "BARE_NUCLEI          int64\n",
      "BLAND_CHROMATIN      int64\n",
      "NORMAL_NUCLEOLI      int64\n",
      "MITOSES              int64\n",
      "CLASS                int64\n",
      "dtype: object\n",
      "     CLUMP_THICKNESS  UNIFORMITY_SIZE  UNIFORMITY_SHAPE  MARGINAL_ADHESION  \\\n",
      "-1               NaN              NaN               NaN                NaN   \n",
      " 1             145.0            383.0             352.0              406.0   \n",
      " 2              50.0             45.0              59.0               58.0   \n",
      " 3             108.0             52.0              56.0               58.0   \n",
      " 4              80.0             40.0              44.0               33.0   \n",
      " 5             129.0             30.0              34.0               23.0   \n",
      " 6              34.0             27.0              30.0               22.0   \n",
      " 7              23.0             19.0              30.0               13.0   \n",
      " 8              46.0             29.0              28.0               25.0   \n",
      " 9              14.0              6.0               7.0                5.0   \n",
      " 10             69.0             67.0              58.0               55.0   \n",
      "\n",
      "     EPITHELIAL_SIZE  BARE_NUCLEI  BLAND_CHROMATIN  NORMAL_NUCLEOLI  MITOSES  \\\n",
      "-1               NaN           16              NaN              NaN      NaN   \n",
      " 1              47.0          401            152.0            442.0    578.0   \n",
      " 2             385.0           30            166.0             36.0     35.0   \n",
      " 3              72.0           28            164.0             44.0     33.0   \n",
      " 4              48.0           19             40.0             18.0     12.0   \n",
      " 5              39.0           30             34.0             19.0      6.0   \n",
      " 6              41.0            4             10.0             22.0      3.0   \n",
      " 7              12.0            8             73.0             16.0      9.0   \n",
      " 8              21.0           21             28.0             24.0      8.0   \n",
      " 9               2.0            9             11.0             16.0      NaN   \n",
      " 10             31.0          132             20.0             61.0     14.0   \n",
      "\n",
      "     CLASS  \n",
      "-1     NaN  \n",
      " 1     NaN  \n",
      " 2   457.0  \n",
      " 3     NaN  \n",
      " 4   241.0  \n",
      " 5     NaN  \n",
      " 6     NaN  \n",
      " 7     NaN  \n",
      " 8     NaN  \n",
      " 9     NaN  \n",
      " 10    NaN  \n"
     ]
    },
    {
     "data": {
      "text/html": [
       "<div>\n",
       "<style>\n",
       "    .dataframe thead tr:only-child th {\n",
       "        text-align: right;\n",
       "    }\n",
       "\n",
       "    .dataframe thead th {\n",
       "        text-align: left;\n",
       "    }\n",
       "\n",
       "    .dataframe tbody tr th {\n",
       "        vertical-align: top;\n",
       "    }\n",
       "</style>\n",
       "<table border=\"1\" class=\"dataframe\">\n",
       "  <thead>\n",
       "    <tr style=\"text-align: right;\">\n",
       "      <th></th>\n",
       "      <th>CLUMP_THICKNESS</th>\n",
       "      <th>UNIFORMITY_SIZE</th>\n",
       "      <th>UNIFORMITY_SHAPE</th>\n",
       "      <th>MARGINAL_ADHESION</th>\n",
       "      <th>EPITHELIAL_SIZE</th>\n",
       "      <th>BARE_NUCLEI</th>\n",
       "      <th>BLAND_CHROMATIN</th>\n",
       "      <th>NORMAL_NUCLEOLI</th>\n",
       "      <th>MITOSES</th>\n",
       "      <th>CLASS</th>\n",
       "    </tr>\n",
       "    <tr>\n",
       "      <th>SAMPLE_ID</th>\n",
       "      <th></th>\n",
       "      <th></th>\n",
       "      <th></th>\n",
       "      <th></th>\n",
       "      <th></th>\n",
       "      <th></th>\n",
       "      <th></th>\n",
       "      <th></th>\n",
       "      <th></th>\n",
       "      <th></th>\n",
       "    </tr>\n",
       "  </thead>\n",
       "  <tbody>\n",
       "    <tr>\n",
       "      <th>1002945</th>\n",
       "      <td>5</td>\n",
       "      <td>4</td>\n",
       "      <td>4</td>\n",
       "      <td>5</td>\n",
       "      <td>7</td>\n",
       "      <td>10</td>\n",
       "      <td>3</td>\n",
       "      <td>2</td>\n",
       "      <td>1</td>\n",
       "      <td>2</td>\n",
       "    </tr>\n",
       "    <tr>\n",
       "      <th>1015425</th>\n",
       "      <td>3</td>\n",
       "      <td>1</td>\n",
       "      <td>1</td>\n",
       "      <td>1</td>\n",
       "      <td>2</td>\n",
       "      <td>2</td>\n",
       "      <td>3</td>\n",
       "      <td>1</td>\n",
       "      <td>1</td>\n",
       "      <td>2</td>\n",
       "    </tr>\n",
       "    <tr>\n",
       "      <th>1016277</th>\n",
       "      <td>6</td>\n",
       "      <td>8</td>\n",
       "      <td>8</td>\n",
       "      <td>1</td>\n",
       "      <td>3</td>\n",
       "      <td>4</td>\n",
       "      <td>3</td>\n",
       "      <td>7</td>\n",
       "      <td>1</td>\n",
       "      <td>2</td>\n",
       "    </tr>\n",
       "    <tr>\n",
       "      <th>1017023</th>\n",
       "      <td>4</td>\n",
       "      <td>1</td>\n",
       "      <td>1</td>\n",
       "      <td>3</td>\n",
       "      <td>2</td>\n",
       "      <td>1</td>\n",
       "      <td>3</td>\n",
       "      <td>1</td>\n",
       "      <td>1</td>\n",
       "      <td>2</td>\n",
       "    </tr>\n",
       "    <tr>\n",
       "      <th>1017122</th>\n",
       "      <td>8</td>\n",
       "      <td>10</td>\n",
       "      <td>10</td>\n",
       "      <td>8</td>\n",
       "      <td>7</td>\n",
       "      <td>10</td>\n",
       "      <td>9</td>\n",
       "      <td>7</td>\n",
       "      <td>1</td>\n",
       "      <td>4</td>\n",
       "    </tr>\n",
       "  </tbody>\n",
       "</table>\n",
       "</div>"
      ],
      "text/plain": [
       "           CLUMP_THICKNESS  UNIFORMITY_SIZE  UNIFORMITY_SHAPE  \\\n",
       "SAMPLE_ID                                                       \n",
       "1002945                  5                4                 4   \n",
       "1015425                  3                1                 1   \n",
       "1016277                  6                8                 8   \n",
       "1017023                  4                1                 1   \n",
       "1017122                  8               10                10   \n",
       "\n",
       "           MARGINAL_ADHESION  EPITHELIAL_SIZE  BARE_NUCLEI  BLAND_CHROMATIN  \\\n",
       "SAMPLE_ID                                                                     \n",
       "1002945                    5                7           10                3   \n",
       "1015425                    1                2            2                3   \n",
       "1016277                    1                3            4                3   \n",
       "1017023                    3                2            1                3   \n",
       "1017122                    8                7           10                9   \n",
       "\n",
       "           NORMAL_NUCLEOLI  MITOSES  CLASS  \n",
       "SAMPLE_ID                                   \n",
       "1002945                  2        1      2  \n",
       "1015425                  1        1      2  \n",
       "1016277                  7        1      2  \n",
       "1017023                  1        1      2  \n",
       "1017122                  7        1      4  "
      ]
     },
     "execution_count": 7,
     "metadata": {},
     "output_type": "execute_result"
    }
   ],
   "source": [
    "print(data2.dtypes)\n",
    "print(data2.apply(pd.value_counts))\n",
    "\n",
    "\n",
    "data2.head()"
   ]
  },
  {
   "cell_type": "markdown",
   "metadata": {},
   "source": [
    "These values are now what I expect and I can move on to exploration & modeling. Before I start this, I create a holdout set so I can test my model properly and avoid experimental over-fitting."
   ]
  },
  {
   "cell_type": "code",
   "execution_count": 8,
   "metadata": {},
   "outputs": [
    {
     "data": {
      "text/plain": [
       "(558, 10)"
      ]
     },
     "execution_count": 8,
     "metadata": {},
     "output_type": "execute_result"
    }
   ],
   "source": [
    "data_train, data_test = train_test_split(data2,\n",
    "                                         test_size=0.2,\n",
    "                                         random_state=78)\n",
    "\n",
    "data_train.shape"
   ]
  },
  {
   "cell_type": "code",
   "execution_count": 9,
   "metadata": {},
   "outputs": [
    {
     "data": {
      "image/png": "[encoded data removed]",
      "text/plain": [
       "<matplotlib.figure.Figure at 0x116f70f60>"
      ]
     },
     "metadata": {},
     "output_type": "display_data"
    }
   ],
   "source": [
    "fig, ax1 = plt.subplots()\n",
    "\n",
    "ax1.hist([data_train.loc[data_train.CLASS==2,'BARE_NUCLEI'].values,\n",
    "          data_train.loc[data_train.CLASS==4,'BARE_NUCLEI'].values],\n",
    "         label=('Benign','Malignant'),\n",
    "         bins=11,histtype='barstacked')\n",
    "ax1.set_xlabel('BARE_NUCLEI',fontsize=18)\n",
    "ax1.legend(fontsize=18)\n",
    "\n",
    "plt.show()"
   ]
  },
  {
   "cell_type": "markdown",
   "metadata": {},
   "source": [
    "I started with the column with missing data. It is important that I treat this right because it appears to contain a lot of information for the classification task."
   ]
  },
  {
   "cell_type": "code",
   "execution_count": 10,
   "metadata": {},
   "outputs": [
    {
     "data": {
      "image/png": "[encoded data removed]",
      "text/plain": [
       "<matplotlib.figure.Figure at 0x11acc3588>"
      ]
     },
     "metadata": {},
     "output_type": "display_data"
    }
   ],
   "source": [
    "fig, ((ax1,ax2),(ax3,ax4)) = plt.subplots(2,2)\n",
    "fig.subplots_adjust(hspace=.5,wspace=.3)\n",
    "\n",
    "cname = data_train.columns[0]\n",
    "ax1.hist([data_train.loc[data_train.CLASS==2,cname].values,\n",
    "          data_train.loc[data_train.CLASS==4,cname].values],\n",
    "         label=('Benign','Malignant'),\n",
    "         bins=9,histtype='barstacked')\n",
    "ax1.set_xlabel(cname,fontsize=12)\n",
    "\n",
    "cname = data_train.columns[1]\n",
    "ax2.hist([data_train.loc[data_train.CLASS==2,cname].values,\n",
    "          data_train.loc[data_train.CLASS==4,cname].values],\n",
    "         label=('Benign','Malignant'),\n",
    "         bins=9,histtype='barstacked')\n",
    "ax2.set_xlabel(cname,fontsize=12)\n",
    "ax2.legend(fontsize=12)\n",
    "\n",
    "cname = data_train.columns[2]\n",
    "ax3.hist([data_train.loc[data_train.CLASS==2,cname].values,\n",
    "          data_train.loc[data_train.CLASS==4,cname].values],\n",
    "         label=('Benign','Malignant'),\n",
    "         bins=9,histtype='barstacked')\n",
    "ax3.set_xlabel(cname,fontsize=12)\n",
    "\n",
    "cname = data_train.columns[3]\n",
    "ax4.hist([data_train.loc[data_train.CLASS==2,cname].values,\n",
    "          data_train.loc[data_train.CLASS==4,cname].values],\n",
    "         label=('Benign','Malignant'),\n",
    "         bins=9,histtype='barstacked')\n",
    "ax4.set_xlabel(cname,fontsize=12)\n",
    "\n",
    "plt.show()"
   ]
  },
  {
   "cell_type": "code",
   "execution_count": 11,
   "metadata": {},
   "outputs": [
    {
     "data": {
      "image/png": "[encoded data removed]",
      "text/plain": [
       "<matplotlib.figure.Figure at 0x11acc3470>"
      ]
     },
     "metadata": {},
     "output_type": "display_data"
    }
   ],
   "source": [
    "fig, ((ax1,ax2),(ax3,ax4)) = plt.subplots(2,2)\n",
    "fig.subplots_adjust(hspace=.5,wspace=.3)\n",
    "\n",
    "cname = data_train.columns[4]\n",
    "ax1.hist([data_train.loc[data_train.CLASS==2,cname].values,\n",
    "          data_train.loc[data_train.CLASS==4,cname].values],\n",
    "         label=('Benign','Malignant'),\n",
    "         bins=9,histtype='barstacked')\n",
    "ax1.set_xlabel(cname,fontsize=12)\n",
    "\n",
    "cname = data_train.columns[6]\n",
    "ax2.hist([data_train.loc[data_train.CLASS==2,cname].values,\n",
    "          data_train.loc[data_train.CLASS==4,cname].values],\n",
    "         label=('Benign','Malignant'),\n",
    "         bins=9,histtype='barstacked')\n",
    "ax2.set_xlabel(cname,fontsize=12)\n",
    "ax2.legend(fontsize=12)\n",
    "\n",
    "cname = data_train.columns[7]\n",
    "ax3.hist([data_train.loc[data_train.CLASS==2,cname].values,\n",
    "          data_train.loc[data_train.CLASS==4,cname].values],\n",
    "         label=('Benign','Malignant'),\n",
    "         bins=9,histtype='barstacked')\n",
    "ax3.set_xlabel(cname,fontsize=12)\n",
    "\n",
    "cname = data_train.columns[8]\n",
    "ax4.hist([data_train.loc[data_train.CLASS==2,cname].values,\n",
    "          data_train.loc[data_train.CLASS==4,cname].values],\n",
    "         label=('Benign','Malignant'),\n",
    "         bins=9,histtype='barstacked')\n",
    "ax4.set_xlabel(cname,fontsize=12)\n",
    "\n",
    "plt.show()"
   ]
  },
  {
   "cell_type": "markdown",
   "metadata": {},
   "source": [
    "So all of the data seem to carry information that can inform the classification task. However, I would like to examine the correlatedness of features. First I would like to impute data for BARE_NUCLEI. I would like to give a value that is likely to give little information about the outcome. The median over the entire dataset is 1.0, but this still appears to say a lot. If I balance the classes by downsampling the benign cases, the median is now different"
   ]
  },
  {
   "cell_type": "code",
   "execution_count": 12,
   "metadata": {},
   "outputs": [
    {
     "name": "stdout",
     "output_type": "stream",
     "text": [
      "BARE_NUCLEI\n",
      "Unbalanced median = 1\n",
      "(348,) (196,)\n",
      "Balanced median = 2\n"
     ]
    }
   ],
   "source": [
    "import numpy.random as rand\n",
    "\n",
    "cname = data_train.columns[5]\n",
    "print(cname)\n",
    "\n",
    "x = data_train.loc[data_train[cname]>0,cname].values\n",
    "c = data_train.loc[data_train[cname]>0,'CLASS'].values\n",
    "    \n",
    "print('Unbalanced median = %d' % np.median(x))\n",
    "\n",
    "# xb = data_train.loc[data_train.CLASS==2,cname]\n",
    "# xm = data_train.loc[data_train.CLASS==4,cname]\n",
    "\n",
    "xb = x[c==2]\n",
    "xm = x[c==4]\n",
    "\n",
    "print(xb.shape,xm.shape)\n",
    "\n",
    "x_balanced = np.append(rand.choice(xb,size=len(xm),replace=False),xm)\n",
    "\n",
    "print('Balanced median = %d' % np.median(x_balanced)) "
   ]
  },
  {
   "cell_type": "markdown",
   "metadata": {},
   "source": [
    "Data is imputed for both train and test data:"
   ]
  },
  {
   "cell_type": "code",
   "execution_count": 13,
   "metadata": {},
   "outputs": [],
   "source": [
    "cname = data_train.columns[5]\n",
    "\n",
    "data2.BARE_NUCLEI.replace(to_replace=-1,value=2,inplace=True)"
   ]
  },
  {
   "cell_type": "code",
   "execution_count": 14,
   "metadata": {},
   "outputs": [
    {
     "data": {
      "image/png": "[encoded data removed]",
      "text/plain": [
       "<matplotlib.figure.Figure at 0x11b1e65f8>"
      ]
     },
     "metadata": {},
     "output_type": "display_data"
    }
   ],
   "source": [
    "fig, ax1 = plt.subplots()\n",
    "\n",
    "ax1.hist([data_train.loc[data_train.CLASS==2,'BARE_NUCLEI'].values,\n",
    "          data_train.loc[data_train.CLASS==4,'BARE_NUCLEI'].values],\n",
    "         label=('Benign','Malignant'),\n",
    "         bins=9,histtype='barstacked')\n",
    "ax1.set_xlabel('BARE_NUCLEI',fontsize=18)\n",
    "ax1.legend(fontsize=18)\n",
    "\n",
    "plt.show()"
   ]
  },
  {
   "cell_type": "code",
   "execution_count": 15,
   "metadata": {},
   "outputs": [
    {
     "data": {
      "text/plain": [
       "<matplotlib.colorbar.Colorbar at 0x11aec2588>"
      ]
     },
     "execution_count": 15,
     "metadata": {},
     "output_type": "execute_result"
    },
    {
     "data": {
      "image/png": "[encoded data removed]",
      "text/plain": [
       "<matplotlib.figure.Figure at 0x11ade6da0>"
      ]
     },
     "metadata": {},
     "output_type": "display_data"
    }
   ],
   "source": [
    "plt.matshow(data_train.corr(method='spearman'),vmax=1,vmin=-1,cmap='PRGn')\n",
    "plt.colorbar()"
   ]
  },
  {
   "cell_type": "code",
   "execution_count": 16,
   "metadata": {},
   "outputs": [
    {
     "data": {
      "text/plain": [
       "<matplotlib.colorbar.Colorbar at 0x11ae7fa90>"
      ]
     },
     "execution_count": 16,
     "metadata": {},
     "output_type": "execute_result"
    },
    {
     "data": {
      "image/png": "[encoded data removed]",
      "text/plain": [
       "<matplotlib.figure.Figure at 0x11af3bda0>"
      ]
     },
     "metadata": {},
     "output_type": "display_data"
    }
   ],
   "source": [
    "plt.matshow(data_train.loc[data_train.CLASS==2].corr(method='spearman'),\n",
    "            vmax=1,vmin=-1,cmap='PRGn')\n",
    "plt.colorbar()"
   ]
  },
  {
   "cell_type": "code",
   "execution_count": 17,
   "metadata": {},
   "outputs": [
    {
     "data": {
      "text/plain": [
       "<matplotlib.colorbar.Colorbar at 0x11ab1dda0>"
      ]
     },
     "execution_count": 17,
     "metadata": {},
     "output_type": "execute_result"
    },
    {
     "data": {
      "image/png": "[encoded data removed]",
      "text/plain": [
       "<matplotlib.figure.Figure at 0x11aaf09e8>"
      ]
     },
     "metadata": {},
     "output_type": "display_data"
    }
   ],
   "source": [
    "plt.matshow(data_train.loc[data_train.CLASS==4].corr(method='spearman'),\n",
    "            vmax=1,vmin=-1,cmap='PRGn')\n",
    "plt.colorbar()"
   ]
  },
  {
   "cell_type": "code",
   "execution_count": 18,
   "metadata": {},
   "outputs": [
    {
     "name": "stdout",
     "output_type": "stream",
     "text": [
      "UNIFORMITY_SIZE\n"
     ]
    }
   ],
   "source": [
    "print(data_train.columns[1])"
   ]
  },
  {
   "cell_type": "markdown",
   "metadata": {},
   "source": [
    "The variable 'UNIFORMITY_SIZE' is correlated to other features pretty strongly within two classes, so I will exclude this feature. I will then use a linear SVC to model the data."
   ]
  },
  {
   "cell_type": "code",
   "execution_count": 19,
   "metadata": {},
   "outputs": [
    {
     "data": {
      "text/plain": [
       "array([ 0.94642857,  0.97321429,  0.97321429,  0.98198198,  0.97297297])"
      ]
     },
     "execution_count": 19,
     "metadata": {},
     "output_type": "execute_result"
    }
   ],
   "source": [
    "from sklearn import svm\n",
    "from sklearn.model_selection import cross_val_score\n",
    "\n",
    "z_train = data_train.values[:,[0,2,3,4,5,6,7,8]]\n",
    "z_test = (data_train.values[:,9] == 4)\n",
    "\n",
    "\n",
    "clf = svm.SVC(kernel='linear', C=1,class_weight = 'balanced')\n",
    "scores = cross_val_score(clf, z_train, z_test, cv=5)\n",
    "scores"
   ]
  },
  {
   "cell_type": "code",
   "execution_count": 20,
   "metadata": {},
   "outputs": [
    {
     "name": "stdout",
     "output_type": "stream",
     "text": [
      "Confusion matrix, without normalization\n",
      "[[88  1]\n",
      " [ 1 50]]\n",
      "Normalized confusion matrix\n",
      "[[ 0.99  0.01]\n",
      " [ 0.02  0.98]]\n"
     ]
    },
    {
     "data": {
      "image/png": "[encoded data removed]",
      "text/plain": [
       "<matplotlib.figure.Figure at 0x11b9eec50>"
      ]
     },
     "metadata": {},
     "output_type": "display_data"
    },
    {
     "data": {
      "image/png": "[encoded data removed]",
      "text/plain": [
       "<matplotlib.figure.Figure at 0x11b9cc3c8>"
      ]
     },
     "metadata": {},
     "output_type": "display_data"
    }
   ],
   "source": [
    "import itertools\n",
    "from sklearn.metrics import confusion_matrix\n",
    "\n",
    "# Split the data into a training set and a test set\n",
    "X_train, X_test, y_train, y_test = train_test_split(z_train, z_test, \n",
    "                                                    random_state=95,\n",
    "                                                    test_size=0.25)\n",
    "\n",
    "# Run classifier, using a model that is too regularized (C too low) to see\n",
    "# the impact on the results\n",
    "classifier = svm.SVC(kernel='linear', C=.1,class_weight = 'balanced')\n",
    "y_pred = classifier.fit(X_train, y_train).predict(X_test)\n",
    "\n",
    "class_names = ('Benign','Malignant')\n",
    "\n",
    "\n",
    "def plot_confusion_matrix(cm, classes,\n",
    "                          normalize=False,\n",
    "                          title='Confusion matrix',\n",
    "                          cmap=plt.cm.Blues):\n",
    "    \"\"\"\n",
    "    This function prints and plots the confusion matrix.\n",
    "    Normalization can be applied by setting `normalize=True`.\n",
    "    \"\"\"\n",
    "    if normalize:\n",
    "        cm = cm.astype('float') / cm.sum(axis=1)[:, np.newaxis]\n",
    "        print(\"Normalized confusion matrix\")\n",
    "    else:\n",
    "        print('Confusion matrix, without normalization')\n",
    "\n",
    "    print(cm)\n",
    "\n",
    "    plt.imshow(cm, interpolation='nearest', cmap=cmap)\n",
    "    plt.title(title)\n",
    "    plt.colorbar()\n",
    "    tick_marks = np.arange(len(classes))\n",
    "    plt.xticks(tick_marks, classes, rotation=45)\n",
    "    plt.yticks(tick_marks, classes)\n",
    "\n",
    "    fmt = '.2f' if normalize else 'd'\n",
    "    thresh = cm.max() / 2.\n",
    "    for i, j in itertools.product(range(cm.shape[0]), range(cm.shape[1])):\n",
    "        plt.text(j, i, format(cm[i, j], fmt),\n",
    "                 horizontalalignment=\"center\",\n",
    "                 color=\"white\" if cm[i, j] > thresh else \"black\")\n",
    "\n",
    "    plt.tight_layout()\n",
    "    plt.ylabel('True label')\n",
    "    plt.xlabel('Predicted label')\n",
    "\n",
    "# Compute confusion matrix\n",
    "cnf_matrix = confusion_matrix(y_test, y_pred)\n",
    "np.set_printoptions(precision=2)\n",
    "\n",
    "# Plot non-normalized confusion matrix\n",
    "plt.figure()\n",
    "plot_confusion_matrix(cnf_matrix, classes=class_names,\n",
    "                      title='Confusion matrix, without normalization')\n",
    "\n",
    "# Plot normalized confusion matrix\n",
    "plt.figure()\n",
    "plot_confusion_matrix(cnf_matrix, classes=class_names, normalize=True,\n",
    "                      title='Normalized confusion matrix')\n",
    "\n",
    "plt.show()"
   ]
  },
  {
   "cell_type": "markdown",
   "metadata": {},
   "source": [
    "This model appears to be performing pretty well right out of the box, though we are mis-classifying 2% of malignant tumors as benign, which could be concerning. I did a manual grid search across the regularization parameter C but saw no improvement. For C below 0.01 I saw precision drop a lot. I interpret this as the regularization term dominating the objective function in the optimization. \n",
    "\n",
    "Based on this I choose C = 0.1 and train on the full train dataset and test the hold-out set."
   ]
  },
  {
   "cell_type": "code",
   "execution_count": 21,
   "metadata": {},
   "outputs": [
    {
     "name": "stdout",
     "output_type": "stream",
     "text": [
      "Confusion matrix, without normalization\n",
      "[[93  4]\n",
      " [ 1 42]]\n",
      "Normalized confusion matrix\n",
      "[[ 0.96  0.04]\n",
      " [ 0.02  0.98]]\n"
     ]
    },
    {
     "data": {
      "image/png": "[encoded data removed]",
      "text/plain": [
       "<matplotlib.figure.Figure at 0x11b930d30>"
      ]
     },
     "metadata": {},
     "output_type": "display_data"
    },
    {
     "data": {
      "image/png": "[encoded data removed]",
      "text/plain": [
       "<matplotlib.figure.Figure at 0x11abd2a90>"
      ]
     },
     "metadata": {},
     "output_type": "display_data"
    }
   ],
   "source": [
    "x_holdout = data_test.values[:,[0,2,3,4,5,6,7,8]]\n",
    "y_holdout = (data_test.values[:,[9]] == 4)\n",
    "\n",
    "y_pred = classifier.fit(z_train, z_test).predict(x_holdout)\n",
    "\n",
    "# Compute confusion matrix\n",
    "cnf_matrix = confusion_matrix(y_holdout, y_pred)\n",
    "np.set_printoptions(precision=2)\n",
    "\n",
    "# Plot non-normalized confusion matrix\n",
    "plt.figure()\n",
    "plot_confusion_matrix(cnf_matrix, classes=class_names,\n",
    "                      title='Confusion matrix, without normalization')\n",
    "\n",
    "# Plot normalized confusion matrix\n",
    "plt.figure()\n",
    "plot_confusion_matrix(cnf_matrix, classes=class_names, normalize=True,\n",
    "                      title='Normalized confusion matrix')\n",
    "\n",
    "plt.show()"
   ]
  },
  {
   "cell_type": "markdown",
   "metadata": {},
   "source": [
    "# Conclusion\n",
    "\n",
    "It appears the classifier is performing pretty well on the holdout set, as with the cross-validation data. This is a pretty strong prediction but some improvements could be made by exploring other models such as Random Forest or transforming the parameters."
   ]
  },
  {
   "cell_type": "code",
   "execution_count": null,
   "metadata": {
    "collapsed": true
   },
   "outputs": [],
   "source": []
  }
 ],
 "metadata": {
  "kernelspec": {
   "display_name": "Python 3",
   "language": "python",
   "name": "python3"
  },
  "language_info": {
   "codemirror_mode": {
    "name": "ipython",
    "version": 3
   },
   "file_extension": ".py",
   "mimetype": "text/x-python",
   "name": "python",
   "nbconvert_exporter": "python",
   "pygments_lexer": "ipython3",
   "version": "3.6.2"
  }
 },
 "nbformat": 4,
 "nbformat_minor": 2
}
